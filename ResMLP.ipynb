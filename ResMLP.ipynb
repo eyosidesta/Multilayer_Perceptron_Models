{
 "cells": [
  {
   "cell_type": "code",
   "execution_count": 1,
   "id": "d34fd45f",
   "metadata": {},
   "outputs": [
    {
     "name": "stderr",
     "output_type": "stream",
     "text": [
      "2024-02-05 23:23:10.903401: I tensorflow/core/platform/cpu_feature_guard.cc:182] This TensorFlow binary is optimized to use available CPU instructions in performance-critical operations.\n",
      "To enable the following instructions: AVX2 FMA, in other operations, rebuild TensorFlow with the appropriate compiler flags.\n"
     ]
    }
   ],
   "source": [
    "import numpy as np\n",
    "import matplotlib.pyplot as plt\n",
    "from tensorflow.keras.datasets import mnist\n",
    "from tensorflow.keras.utils import to_categorical\n",
    "from tensorflow.keras.models import Sequential\n",
    "from tensorflow.keras.layers import Dense, Activation, Dropout"
   ]
  },
  {
   "cell_type": "code",
   "execution_count": 2,
   "id": "b7eb7374",
   "metadata": {},
   "outputs": [],
   "source": [
    "class ResidualMLPClassifier:\n",
    "    def __init__(self):\n",
    "        self.model = None\n",
    "        self.history = None\n",
    "\n",
    "    def load_mnist_data(self):\n",
    "        (x_train, y_train), (x_test, y_test) = mnist.load_data()\n",
    "        return x_train, y_train, x_test, y_test\n",
    "\n",
    "    def ResMLP_get_input_val(self, x_train):\n",
    "        width = x_train.shape[1]\n",
    "        height = x_train.shape[2]\n",
    "        input_val = width * height\n",
    "        return input_val\n",
    "\n",
    "    def ResMLP_scale_image_size(self, x_train, x_test, input_val):\n",
    "        x_train = np.reshape(x_train, [-1, input_val])\n",
    "        x_train = x_train.astype('float32') / 255\n",
    "\n",
    "        x_test = np.reshape(x_test, [-1, input_val])\n",
    "        x_test = x_test.astype('float32') / 255\n",
    "\n",
    "        return x_train, x_test\n",
    "\n",
    "    def ResMLP_preprocess_data(self, x_train, y_train, x_test, y_test):\n",
    "        num_labels = len(np.unique(y_train))\n",
    "        y_train = to_categorical(y_train)\n",
    "        y_test = to_categorical(y_test)\n",
    "        input_value = self.ResMLP_get_input_val(x_train)\n",
    "        x_train, x_test = self.ResMLP_scale_image_size(x_train, x_test, input_value)\n",
    "\n",
    "        return x_train, y_train, x_test, y_test, num_labels\n",
    "\n",
    "    def build_ResMLP_model(self, input_size, hidden_units, num_labels, dropout):\n",
    "        model = Sequential()\n",
    "        model.add(Dense(hidden_units, input_dim=input_size))\n",
    "        model.add(Activation('relu'))\n",
    "        model.add(Dropout(dropout))\n",
    "\n",
    "        # Residual block\n",
    "        residual_block = Sequential([\n",
    "            Dense(hidden_units, activation='relu'),\n",
    "            Dropout(dropout),\n",
    "            Dense(hidden_units),\n",
    "        ])\n",
    "\n",
    "        # Adding the residual block with a skip connection\n",
    "        model.add(residual_block)\n",
    "        model.add(Dense(hidden_units))  # Shortcut connection\n",
    "        model.add(Activation('relu'))\n",
    "\n",
    "        model.add(Dense(num_labels))\n",
    "        model.add(Activation('softmax'))\n",
    "        model.compile(loss='categorical_crossentropy', optimizer='adam', metrics=['accuracy'])\n",
    "        return model\n",
    "\n",
    "    def train_ResMLP_model(self, model, x_train, y_train, epochs, batch_size):\n",
    "        history = model.fit(x_train, y_train, epochs=epochs, batch_size=batch_size, verbose=2)\n",
    "        self.history = history\n",
    "\n",
    "    def evaluate_ResMLP_model(self, model, x_test, y_test, batch_size):\n",
    "        _, accuracy = model.evaluate(x_test, y_test, batch_size=batch_size, verbose=0)\n",
    "        return accuracy\n",
    "\n",
    "    def plot_accuracy(self):\n",
    "        if self.history is not None and 'accuracy' in self.history.history:\n",
    "            plt.figure(\"Model Performance Output\")\n",
    "            plt.plot(self.history.history['accuracy'])\n",
    "            plt.title('Model Accuracy over Epochs')\n",
    "            plt.xlabel('Epoch')\n",
    "            plt.ylabel('Accuracy')\n",
    "            plt.show()\n",
    "        else:\n",
    "            print(\"No training history available.\")"
   ]
  },
  {
   "cell_type": "code",
   "execution_count": 3,
   "id": "520f0717",
   "metadata": {},
   "outputs": [
    {
     "name": "stdout",
     "output_type": "stream",
     "text": [
      "Epoch 1/20\n",
      "469/469 - 6s - loss: 0.4180 - accuracy: 0.8705 - 6s/epoch - 13ms/step\n",
      "Epoch 2/20\n",
      "469/469 - 4s - loss: 0.2091 - accuracy: 0.9379 - 4s/epoch - 8ms/step\n",
      "Epoch 3/20\n",
      "469/469 - 3s - loss: 0.1691 - accuracy: 0.9488 - 3s/epoch - 7ms/step\n",
      "Epoch 4/20\n",
      "469/469 - 3s - loss: 0.1474 - accuracy: 0.9551 - 3s/epoch - 5ms/step\n",
      "Epoch 5/20\n",
      "469/469 - 2s - loss: 0.1276 - accuracy: 0.9614 - 2s/epoch - 5ms/step\n",
      "Epoch 6/20\n",
      "469/469 - 3s - loss: 0.1185 - accuracy: 0.9646 - 3s/epoch - 7ms/step\n",
      "Epoch 7/20\n",
      "469/469 - 3s - loss: 0.1141 - accuracy: 0.9655 - 3s/epoch - 6ms/step\n",
      "Epoch 8/20\n",
      "469/469 - 3s - loss: 0.1069 - accuracy: 0.9675 - 3s/epoch - 7ms/step\n",
      "Epoch 9/20\n",
      "469/469 - 3s - loss: 0.1008 - accuracy: 0.9689 - 3s/epoch - 6ms/step\n",
      "Epoch 10/20\n",
      "469/469 - 3s - loss: 0.0940 - accuracy: 0.9714 - 3s/epoch - 6ms/step\n",
      "Epoch 11/20\n",
      "469/469 - 3s - loss: 0.0881 - accuracy: 0.9734 - 3s/epoch - 6ms/step\n",
      "Epoch 12/20\n",
      "469/469 - 3s - loss: 0.0836 - accuracy: 0.9741 - 3s/epoch - 6ms/step\n",
      "Epoch 13/20\n",
      "469/469 - 3s - loss: 0.0815 - accuracy: 0.9758 - 3s/epoch - 6ms/step\n",
      "Epoch 14/20\n",
      "469/469 - 3s - loss: 0.0793 - accuracy: 0.9761 - 3s/epoch - 6ms/step\n",
      "Epoch 15/20\n",
      "469/469 - 3s - loss: 0.0789 - accuracy: 0.9762 - 3s/epoch - 7ms/step\n",
      "Epoch 16/20\n",
      "469/469 - 4s - loss: 0.0766 - accuracy: 0.9770 - 4s/epoch - 8ms/step\n",
      "Epoch 17/20\n",
      "469/469 - 4s - loss: 0.0711 - accuracy: 0.9786 - 4s/epoch - 9ms/step\n",
      "Epoch 18/20\n",
      "469/469 - 4s - loss: 0.0695 - accuracy: 0.9787 - 4s/epoch - 8ms/step\n",
      "Epoch 19/20\n",
      "469/469 - 4s - loss: 0.0697 - accuracy: 0.9792 - 4s/epoch - 8ms/step\n",
      "Epoch 20/20\n",
      "469/469 - 4s - loss: 0.0648 - accuracy: 0.9803 - 4s/epoch - 8ms/step\n",
      "Accuracy: 98.0%\n"
     ]
    },
    {
     "data": {
      "image/png": "[encoded data removed]",
      "text/plain": [
       "<Figure size 640x480 with 1 Axes>"
      ]
     },
     "metadata": {},
     "output_type": "display_data"
    }
   ],
   "source": [
    "if __name__ == \"__main__\":\n",
    "    resmlp_classifier = ResidualMLPClassifier()\n",
    "\n",
    "    x_train, y_train, x_test, y_test = resmlp_classifier.load_mnist_data()\n",
    "    input_value = resmlp_classifier.ResMLP_get_input_val(x_train)\n",
    "    x_train, y_train, x_test, y_test, num_labels = resmlp_classifier.ResMLP_preprocess_data(x_train, y_train, x_test, y_test)\n",
    "\n",
    "    batch_size = 128\n",
    "    hidden_units = 256\n",
    "    dropout = 0.45\n",
    "    \n",
    "    resmlp_classifier.model = resmlp_classifier.build_ResMLP_model(input_value, hidden_units, num_labels, dropout)\n",
    "    resmlp_classifier.train_ResMLP_model(resmlp_classifier.model, x_train, y_train, epochs=20, batch_size=batch_size)\n",
    "\n",
    "    accuracy = resmlp_classifier.evaluate_ResMLP_model(resmlp_classifier.model, x_test, y_test, batch_size=batch_size)\n",
    "    print(\"Accuracy: %.1f%%\" % (100.0 * accuracy))\n",
    "\n",
    "    resmlp_classifier.plot_accuracy()"
   ]
  },
  {
   "cell_type": "code",
   "execution_count": null,
   "id": "f6b09304",
   "metadata": {},
   "outputs": [],
   "source": []
  }
 ],
 "metadata": {
  "kernelspec": {
   "display_name": "aiassignment",
   "language": "python",
   "name": "aiassignment"
  },
  "language_info": {
   "codemirror_mode": {
    "name": "ipython",
    "version": 3
   },
   "file_extension": ".py",
   "mimetype": "text/x-python",
   "name": "python",
   "nbconvert_exporter": "python",
   "pygments_lexer": "ipython3",
   "version": "3.11.5"
  }
 },
 "nbformat": 4,
 "nbformat_minor": 5
}
